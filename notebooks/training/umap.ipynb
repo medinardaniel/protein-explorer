{
 "cells": [
  {
   "cell_type": "markdown",
   "metadata": {},
   "source": [
    "# UMAP"
   ]
  },
  {
   "cell_type": "code",
   "execution_count": 7,
   "metadata": {},
   "outputs": [
    {
     "name": "stderr",
     "output_type": "stream",
     "text": [
      "/Users/danielmedina/Documents/Duke/classes/spring-2024/aipi540/baby-faces/env/lib/python3.11/site-packages/tqdm/auto.py:21: TqdmWarning: IProgress not found. Please update jupyter and ipywidgets. See https://ipywidgets.readthedocs.io/en/stable/user_install.html\n",
      "  from .autonotebook import tqdm as notebook_tqdm\n"
     ]
    }
   ],
   "source": [
    "from pymongo import MongoClient\n",
    "from dotenv import load_dotenv\n",
    "import umap\n",
    "import numpy as np\n",
    "import os\n",
    "import json"
   ]
  },
  {
   "cell_type": "code",
   "execution_count": 12,
   "metadata": {},
   "outputs": [],
   "source": [
    "def get_umap_data(embedding_type):\n",
    "    \"\"\"\n",
    "    Fetch protein embeddings from MongoDB database.\n",
    "    :param embedding_type: the name of the field containing the embeddings.\n",
    "    :return: a numpy array of shape (n_proteins, embedding_size).\n",
    "    \"\"\"\n",
    "    load_dotenv()\n",
    "    uri = os.getenv('MONGODB_URI')\n",
    "    client = MongoClient(uri)\n",
    "    db = client['proteinExplorer']\n",
    "    collection = db['protein_embeddings']\n",
    "\n",
    "    embeddings = []\n",
    "    for protein in collection.find():\n",
    "        if embedding_type not in protein:\n",
    "            continue\n",
    "        embeddings.append(protein[embedding_type])\n",
    "\n",
    "    embeddings = np.array(embeddings)\n",
    "    \n",
    "    return embeddings"
   ]
  },
  {
   "cell_type": "code",
   "execution_count": 5,
   "metadata": {},
   "outputs": [],
   "source": [
    "def reduce_embeddings(embeddings, filename):\n",
    "    \"\"\"\n",
    "    Reduce the dimensionality of the embeddings using UMAP and convert them to a json file.\n",
    "    :param embeddings: a numpy array of shape (n_samples, 1024).\n",
    "    :return: a numpy array of shape (n_samples, 2).\n",
    "    \"\"\"\n",
    "    reducer = umap.UMAP(n_components=2)\n",
    "    embeddings_reduced = reducer.fit_transform(embeddings)\n",
    "\n",
    "    embeddings_reduced_list = embeddings_reduced.tolist()\n",
    "\n",
    "    # convert the list to json\n",
    "    embeddings_reduced_json = json.dumps(embeddings_reduced_list)\n",
    "\n",
    "    with open(filename, 'w') as f:\n",
    "        f.write(embeddings_reduced_json)\n",
    "\n",
    "    return embeddings_reduced"
   ]
  },
  {
   "cell_type": "markdown",
   "metadata": {},
   "source": [
    "## Get Embeddings"
   ]
  },
  {
   "cell_type": "code",
   "execution_count": 16,
   "metadata": {},
   "outputs": [],
   "source": [
    "# Your data should be in the form of a numpy array of shape (n_samples, 1024)\n",
    "gist_embeddings = get_umap_data('func_embedding')\n",
    "seq_embeddings = get_umap_data('seq_embedding')\n",
    "esm_embeddings = get_umap_data('esm2_embedding')"
   ]
  },
  {
   "cell_type": "markdown",
   "metadata": {},
   "source": [
    "## Reduce Embeddings and Save as JSON"
   ]
  },
  {
   "cell_type": "code",
   "execution_count": 13,
   "metadata": {},
   "outputs": [],
   "source": [
    "gist_embeddings_reduced = reduce_embeddings(gist_embeddings, 'gist_embeddings_reduced.json')\n",
    "seq_embeddings_reduced = reduce_embeddings(seq_embeddings, 'protbert_embeddings_reduced.json')\n",
    "esm_embeddings_reduced = reduce_embeddings(esm_embeddings, 'esm2_embeddings_reduced.json')"
   ]
  }
 ],
 "metadata": {
  "kernelspec": {
   "display_name": "env",
   "language": "python",
   "name": "python3"
  },
  "language_info": {
   "codemirror_mode": {
    "name": "ipython",
    "version": 3
   },
   "file_extension": ".py",
   "mimetype": "text/x-python",
   "name": "python",
   "nbconvert_exporter": "python",
   "pygments_lexer": "ipython3",
   "version": "3.11.7"
  }
 },
 "nbformat": 4,
 "nbformat_minor": 2
}
