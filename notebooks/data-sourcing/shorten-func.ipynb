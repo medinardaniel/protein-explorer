{
 "cells": [
  {
   "cell_type": "markdown",
   "metadata": {},
   "source": [
    "# Shorten the function descriptions for proteins\n",
    "In this notebook we use the OpenAI API to shorten/summarize the function descriptions of the proteins."
   ]
  },
  {
   "cell_type": "code",
   "execution_count": 7,
   "metadata": {},
   "outputs": [],
   "source": [
    "import pandas as pd\n",
    "from dotenv import load_dotenv\n",
    "import openai as OpenAI\n",
    "import os"
   ]
  },
  {
   "cell_type": "code",
   "execution_count": 17,
   "metadata": {},
   "outputs": [],
   "source": [
    "protein_data = pd.read_csv('data_output/processed_protein_data.csv')\n",
    "\n",
    "# drop rows with missing values in the 'function' or 'name' columns\n",
    "protein_data = protein_data.dropna(subset=['function', 'name'])"
   ]
  },
  {
   "cell_type": "code",
   "execution_count": 18,
   "metadata": {},
   "outputs": [],
   "source": [
    "def generate_new_description(description):\n",
    "    \"\"\"\n",
    "    Use the OpenAI API to generate a new description for the protein\n",
    "    \"\"\"\n",
    "    load_dotenv()\n",
    "    # connect to openai\n",
    "    client = OpenAI.Client(api_key=os.getenv('OPENAI_API_KEY'))\n",
    "\n",
    "    # declare system instructions\n",
    "    system_instructions = (\"Given the description of a protein's function, condense its key actions and roles into a one-sentence description. \"\n",
    "                           \"Always start with action verbs and use the same language used in the original description.\")\n",
    "    \n",
    "    # generate the new description\n",
    "    try:\n",
    "        completion = client.chat.completions.create(\n",
    "            model=\"gpt-3.5-turbo\",\n",
    "            messages=[\n",
    "                {\"role\": \"system\", \"content\": system_instructions},\n",
    "                {\"role\": \"user\", \"content\": description},\n",
    "            ]\n",
    "        )\n",
    "        new_description = completion.choices[0].message.content\n",
    "\n",
    "    except Exception as e:\n",
    "        print(\"Failed to generate new description.\")\n",
    "        print(e)\n",
    "    \n",
    "    return new_description"
   ]
  },
  {
   "cell_type": "code",
   "execution_count": 19,
   "metadata": {},
   "outputs": [
    {
     "name": "stdout",
     "output_type": "stream",
     "text": [
      "New descriptions generated and saved to 'data_output/prot_data_shortened.csv'\n"
     ]
    }
   ],
   "source": [
    "# generate new descriptions for each protein\n",
    "for index, row in protein_data.iterrows():\n",
    "    protein_data.at[index, 'new_func_descr'] = generate_new_description(row['function'])\n",
    "\n",
    "# drop the old function descriptions\n",
    "new_df = protein_data.drop(columns=['function'])\n",
    "\n",
    "# rename the new function descriptions to 'function'\n",
    "new_df = new_df.rename(columns={'new_func_descr': 'function'})\n",
    "\n",
    "# save the new dataframe as a csv named 'prot_data_shortened' in the data_output folder\n",
    "new_df.to_csv('data_output/prot_data_shortened.csv', index=False)\n",
    "\n",
    "print(\"New descriptions generated and saved to 'data_output/prot_data_shortened.csv'\")"
   ]
  }
 ],
 "metadata": {
  "kernelspec": {
   "display_name": "env",
   "language": "python",
   "name": "python3"
  },
  "language_info": {
   "codemirror_mode": {
    "name": "ipython",
    "version": 3
   },
   "file_extension": ".py",
   "mimetype": "text/x-python",
   "name": "python",
   "nbconvert_exporter": "python",
   "pygments_lexer": "ipython3",
   "version": "3.11.7"
  }
 },
 "nbformat": 4,
 "nbformat_minor": 2
}
